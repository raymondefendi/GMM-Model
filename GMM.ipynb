{
  "nbformat": 4,
  "nbformat_minor": 0,
  "metadata": {
    "colab": {
      "name": "UAS_ML_GMM_RAYMOOND.ipynb",
      "provenance": [],
      "collapsed_sections": []
    },
    "kernelspec": {
      "name": "python3",
      "display_name": "Python 3"
    },
    "language_info": {
      "name": "python"
    }
  },
  "cells": [
    {
      "cell_type": "code",
      "metadata": {
        "colab": {
          "base_uri": "https://localhost:8080/"
        },
        "id": "Q2C4vFTqMHDX",
        "outputId": "802fc92a-f332-404f-c8e8-4dde72999b09"
      },
      "source": [
        "import pandas as pd\n",
        "import numpy as np\n",
        "import matplotlib.pyplot as plt\n",
        "import seaborn as sns\n",
        "from sklearn.cluster import KMeans\n",
        "from sklearn.metrics import silhouette_score\n",
        "from scipy.stats import multivariate_normal\n",
        "from sklearn.mixture import gaussian_mixture\n",
        "from sklearn.preprocessing import StandardScaler"
      ],
      "execution_count": null,
      "outputs": [
        {
          "output_type": "stream",
          "text": [
            "/usr/local/lib/python3.7/dist-packages/sklearn/utils/deprecation.py:144: FutureWarning: The sklearn.mixture.gaussian_mixture module is  deprecated in version 0.22 and will be removed in version 0.24. The corresponding classes / functions should instead be imported from sklearn.mixture. Anything that cannot be imported from sklearn.mixture is now part of the private API.\n",
            "  warnings.warn(message, FutureWarning)\n"
          ],
          "name": "stderr"
        }
      ]
    },
    {
      "cell_type": "markdown",
      "metadata": {
        "id": "pCHjvA5rMtN7"
      },
      "source": [
        "Import Esential neeed function and library"
      ]
    },
    {
      "cell_type": "code",
      "metadata": {
        "id": "cq1lp0t_MSzR"
      },
      "source": [
        "X = pd.read_csv('UAS_ML2021_DATASET02.csv')\n",
        "scaler = StandardScaler().fit(X)\n",
        "X = scaler.transform(X)"
      ],
      "execution_count": null,
      "outputs": []
    },
    {
      "cell_type": "markdown",
      "metadata": {
        "id": "CDbsrPSbQjMU"
      },
      "source": [
        "Membacata dataset dan mengubah dataset menjadi skalar"
      ]
    },
    {
      "cell_type": "code",
      "metadata": {
        "id": "OYuplmoyMt5v"
      },
      "source": [
        "score = 0\n",
        "kloc = 0\n",
        "for i in range (2,10):\n",
        "\n",
        "  ModelMean = KMeans(n_clusters= i)\n",
        "  model = ModelMean.fit(X)\n",
        "  modelLabel = model.labels_\n",
        "  SilhouetteScore = silhouette_score(X,modelLabel)\n",
        "\n",
        "  if score< SilhouetteScore:\n",
        "      score = SilhouetteScore\n",
        "      kloc = i"
      ],
      "execution_count": null,
      "outputs": []
    },
    {
      "cell_type": "code",
      "metadata": {
        "colab": {
          "base_uri": "https://localhost:8080/"
        },
        "id": "_ag38GjqNpWa",
        "outputId": "0f12abd3-6a02-43d1-a855-753f00ddc452"
      },
      "source": [
        "print(\"Score of Silhouette =\",score)\n",
        "print(\"Location of K = \",kloc)"
      ],
      "execution_count": null,
      "outputs": [
        {
          "output_type": "stream",
          "text": [
            "Score of Silhouette = 0.7356847709879415\n",
            "Location of K =  3\n"
          ],
          "name": "stdout"
        }
      ]
    },
    {
      "cell_type": "markdown",
      "metadata": {
        "id": "eAgLybpGQziV"
      },
      "source": [
        "Code diatas digunakan untuk mencari soluhuete score dan mencari lokasi dari k untuk digunakan sebagai cluster terbaik\n",
        "(POINT1)"
      ]
    },
    {
      "cell_type": "code",
      "metadata": {
        "colab": {
          "base_uri": "https://localhost:8080/"
        },
        "id": "92N5vLsjNytw",
        "outputId": "de33d61f-4ab8-4b55-9659-4ebc230e8adf"
      },
      "source": [
        "Model= KMeans(n_clusters= 3).fit(X)\n",
        "MeanCentre = Model.cluster_centers_\n",
        "print(MeanCentre)"
      ],
      "execution_count": null,
      "outputs": [
        {
          "output_type": "stream",
          "text": [
            "[[ 0.12696481  0.02289726]\n",
            " [-1.47732521 -1.40637377]\n",
            " [ 1.197698    1.32922733]]\n"
          ],
          "name": "stdout"
        }
      ]
    },
    {
      "cell_type": "code",
      "metadata": {
        "id": "h3Ha7zfeOU94"
      },
      "source": [
        "Mean = np.array([[-1.47732521,-1.40637377],[ 0.12696481, 0.02289726],[1.197698, 1.32922733]])\n",
        "sigma = np.array([[[.675, .825], [.825, 1.3]],[[.675, .9], [.9, 1.3]], [[.675,.9], [.9, 1.3]]])\n",
        "phi = np.array([2/7, 3/7, 2/7])\n",
        "resp =np.zeros((500,3))\n",
        "Likelihood =np.zeros((500,3))"
      ],
      "execution_count": null,
      "outputs": []
    },
    {
      "cell_type": "markdown",
      "metadata": {
        "id": "K5Ma57-lQ_rE"
      },
      "source": [
        "Mencari meancentre agar bisa digunakan ke dalam array, disini saya menggunakan sigma random dan phi random,juga mengunakan resp dengan 500,3 dan likelihood 500,3"
      ]
    },
    {
      "cell_type": "code",
      "metadata": {
        "colab": {
          "base_uri": "https://localhost:8080/"
        },
        "id": "YcZdUzqhV5xE",
        "outputId": "9026c40b-187f-422b-8011-5bfe2a7366f5"
      },
      "source": [
        "for j in range(0,100):\n",
        "    for i in range(3):\n",
        "      Likelihood[:,i] = multivariate_normal.pdf(X, Mean[i],sigma[i], allow_singular=True)\n",
        "      resp[:,i] = phi[i] * Likelihood[:,i]\n",
        "\n",
        "    log_likelihood = np.mean(np.log(np.sum(resp , axis =1)))\n",
        "    resp = resp /resp.sum(axis = 1,keepdims = 1)\n",
        "    for i in range (3):\n",
        "      weight = resp[:, [i]]\n",
        "      totalWeight = weight.sum()\n",
        "      Mean[i] = (X * weight).sum(axis=0) / totalWeight \n",
        "      sigma[i] = np.cov(X.T, aweights=(weight/totalWeight).flatten(), bias=True)\n",
        "    phi = resp.mean(axis=0)\n",
        "    print(f'Epoch{j}:{log_likelihood}')"
      ],
      "execution_count": null,
      "outputs": [
        {
          "output_type": "stream",
          "text": [
            "Epoch0:-1.901196498846346\n",
            "Epoch1:-1.3073912770397351\n",
            "Epoch2:-1.249984094907397\n",
            "Epoch3:-1.2194525666412066\n",
            "Epoch4:-1.1860926152730982\n",
            "Epoch5:-1.1194597853665968\n",
            "Epoch6:-1.033144716956885\n",
            "Epoch7:-0.9692255660594001\n",
            "Epoch8:-0.9196183991120022\n",
            "Epoch9:-0.9056616516848608\n",
            "Epoch10:-0.8931962245684977\n",
            "Epoch11:-0.8730899527871041\n",
            "Epoch12:-0.8400443863042777\n",
            "Epoch13:-0.8004797362531793\n",
            "Epoch14:-0.7864124565993718\n",
            "Epoch15:-0.7854369354126791\n",
            "Epoch16:-0.7853650747469489\n",
            "Epoch17:-0.7853592750979289\n",
            "Epoch18:-0.785358807166803\n",
            "Epoch19:-0.7853587694863631\n",
            "Epoch20:-0.7853587664544522\n",
            "Epoch21:-0.7853587662105515\n",
            "Epoch22:-0.7853587661909333\n",
            "Epoch23:-0.7853587661893549\n",
            "Epoch24:-0.7853587661892281\n",
            "Epoch25:-0.7853587661892184\n",
            "Epoch26:-0.785358766189217\n",
            "Epoch27:-0.7853587661892171\n",
            "Epoch28:-0.7853587661892173\n",
            "Epoch29:-0.7853587661892165\n",
            "Epoch30:-0.7853587661892167\n",
            "Epoch31:-0.7853587661892165\n",
            "Epoch32:-0.7853587661892173\n",
            "Epoch33:-0.7853587661892165\n",
            "Epoch34:-0.7853587661892167\n",
            "Epoch35:-0.7853587661892167\n",
            "Epoch36:-0.7853587661892171\n",
            "Epoch37:-0.7853587661892174\n",
            "Epoch38:-0.7853587661892171\n",
            "Epoch39:-0.785358766189217\n",
            "Epoch40:-0.7853587661892174\n",
            "Epoch41:-0.785358766189217\n",
            "Epoch42:-0.7853587661892172\n",
            "Epoch43:-0.7853587661892171\n",
            "Epoch44:-0.7853587661892171\n",
            "Epoch45:-0.7853587661892171\n",
            "Epoch46:-0.7853587661892174\n",
            "Epoch47:-0.7853587661892173\n",
            "Epoch48:-0.7853587661892171\n",
            "Epoch49:-0.7853587661892174\n",
            "Epoch50:-0.7853587661892173\n",
            "Epoch51:-0.7853587661892171\n",
            "Epoch52:-0.7853587661892174\n",
            "Epoch53:-0.7853587661892173\n",
            "Epoch54:-0.7853587661892171\n",
            "Epoch55:-0.7853587661892174\n",
            "Epoch56:-0.7853587661892173\n",
            "Epoch57:-0.7853587661892171\n",
            "Epoch58:-0.7853587661892174\n",
            "Epoch59:-0.7853587661892173\n",
            "Epoch60:-0.7853587661892171\n",
            "Epoch61:-0.7853587661892174\n",
            "Epoch62:-0.7853587661892173\n",
            "Epoch63:-0.7853587661892171\n",
            "Epoch64:-0.7853587661892174\n",
            "Epoch65:-0.7853587661892173\n",
            "Epoch66:-0.7853587661892171\n",
            "Epoch67:-0.7853587661892174\n",
            "Epoch68:-0.7853587661892173\n",
            "Epoch69:-0.7853587661892171\n",
            "Epoch70:-0.7853587661892174\n",
            "Epoch71:-0.7853587661892173\n",
            "Epoch72:-0.7853587661892171\n",
            "Epoch73:-0.7853587661892174\n",
            "Epoch74:-0.7853587661892173\n",
            "Epoch75:-0.7853587661892171\n",
            "Epoch76:-0.7853587661892174\n",
            "Epoch77:-0.7853587661892173\n",
            "Epoch78:-0.7853587661892171\n",
            "Epoch79:-0.7853587661892174\n",
            "Epoch80:-0.7853587661892173\n",
            "Epoch81:-0.7853587661892171\n",
            "Epoch82:-0.7853587661892174\n",
            "Epoch83:-0.7853587661892173\n",
            "Epoch84:-0.7853587661892171\n",
            "Epoch85:-0.7853587661892174\n",
            "Epoch86:-0.7853587661892173\n",
            "Epoch87:-0.7853587661892171\n",
            "Epoch88:-0.7853587661892174\n",
            "Epoch89:-0.7853587661892173\n",
            "Epoch90:-0.7853587661892171\n",
            "Epoch91:-0.7853587661892174\n",
            "Epoch92:-0.7853587661892173\n",
            "Epoch93:-0.7853587661892171\n",
            "Epoch94:-0.7853587661892174\n",
            "Epoch95:-0.7853587661892173\n",
            "Epoch96:-0.7853587661892171\n",
            "Epoch97:-0.7853587661892174\n",
            "Epoch98:-0.7853587661892173\n",
            "Epoch99:-0.7853587661892171\n"
          ],
          "name": "stdout"
        }
      ]
    },
    {
      "cell_type": "markdown",
      "metadata": {
        "id": "TCsc2XygWkRG"
      },
      "source": [
        "coding diatas memperlihatkan\n",
        "Responsibility (resp) memperlihatkan the probabilitas setial item yang termasuk di dalam cluster 0 1 atau 2(3 cluster) \n",
        ",melakukan normalisai terhadap semua cluster,merekalkulasi means dan covariance dan melakukanrekalulasi  koeefisian dan phi\n",
        "(POINT B)\n",
        "Disini melakukan printing ecpoch untuk nantinya disamakan dengan log likelihood di bawah"
      ]
    },
    {
      "cell_type": "code",
      "metadata": {
        "colab": {
          "base_uri": "https://localhost:8080/"
        },
        "id": "OuVTz4jchTSO",
        "outputId": "38dc6425-db6f-4d7a-f86a-070b01d8ea41"
      },
      "source": [
        "print (\"Means :\", Mean) \n",
        "print(\"Covariances :\", sigma)\n",
        "print(\"phi :\",phi)"
      ],
      "execution_count": null,
      "outputs": [
        {
          "output_type": "stream",
          "text": [
            "Means : [[-1.47731854 -1.40636764]\n",
            " [ 0.13682024  0.02927173]\n",
            " [ 1.20349865  1.34760085]]\n",
            "Covariances : [[[0.04634793 0.03839655]\n",
            "  [0.03839655 0.04463047]]\n",
            "\n",
            " [[0.1186252  0.02261994]\n",
            "  [0.02261994 0.05547854]]\n",
            "\n",
            " [[0.04784261 0.03834003]\n",
            "  [0.03834003 0.04848321]]]\n",
            "phi : [0.25000072 0.49995615 0.25004313]\n"
          ],
          "name": "stdout"
        }
      ]
    },
    {
      "cell_type": "markdown",
      "metadata": {
        "id": "VYep0tTHPjMa"
      },
      "source": [
        "hasil update dari MEans covariance dan phi (POINT C)"
      ]
    },
    {
      "cell_type": "code",
      "metadata": {
        "colab": {
          "base_uri": "https://localhost:8080/"
        },
        "id": "Ugbtt2KtjXV-",
        "outputId": "4560047a-ca37-4ba7-859d-0b31d040aaa7"
      },
      "source": [
        "for i in range(3):\n",
        "    Likelihood[:,i] = multivariate_normal.pdf(X, Mean[i],sigma[i], allow_singular=True)\n",
        "    resp[:,i] = phi[i] * Likelihood[:,i]\n",
        "\n",
        "log_likelihood = np.mean(np.log(np.sum(resp , axis =1)))\n",
        "resp = resp /resp.sum(axis = 1,keepdims = 1)\n",
        "print(log_likelihood)"
      ],
      "execution_count": null,
      "outputs": [
        {
          "output_type": "stream",
          "text": [
            "-0.7853587661892174\n"
          ],
          "name": "stdout"
        }
      ]
    },
    {
      "cell_type": "markdown",
      "metadata": {
        "id": "jsyXrEZmXme_"
      },
      "source": [
        "Melakukan pengecekan value dari log likeliehood sesuai dengan epoch yang diatas, dan pada akhirnya mempunyai nilai yang sama(2 angka di akhir tidak termasuk),(POINT D)"
      ]
    },
    {
      "cell_type": "markdown",
      "metadata": {
        "id": "wJROp58Ujy0G"
      },
      "source": [
        "**Library**"
      ]
    },
    {
      "cell_type": "code",
      "metadata": {
        "colab": {
          "base_uri": "https://localhost:8080/",
          "height": 265
        },
        "id": "i93neKmWkHz9",
        "outputId": "053737f0-8bc5-44bc-dc92-912ebdfc7754"
      },
      "source": [
        "from sklearn.mixture import GaussianMixture\n",
        "gm = GaussianMixture(n_components=3).fit(X)\n",
        "labels = gm.predict(X)\n",
        "plt.scatter(X[:, 0], X[:, 1], c=labels, s=40, cmap='viridis');\n"
      ],
      "execution_count": null,
      "outputs": [
        {
          "output_type": "display_data",
          "data": {
            "image/png": "[encoded data removed]",
            "text/plain": [
              "<Figure size 432x288 with 1 Axes>"
            ]
          },
          "metadata": {
            "tags": [],
            "needs_background": "light"
          }
        }
      ]
    },
    {
      "cell_type": "markdown",
      "metadata": {
        "id": "0BI4dSf-Xv_4"
      },
      "source": [
        "Disini melakukan ploting terhadap data yang sama di atas namun menggunakan library GMM"
      ]
    },
    {
      "cell_type": "code",
      "metadata": {
        "id": "3-pAqsG2nmZS"
      },
      "source": [
        "from matplotlib.patches import Ellipse\n",
        "def draw_ellipse(position, covariance, ax=None, **kwargs):\n",
        "    \"\"\"Draw an ellipse with a given position and covariance\"\"\"\n",
        "    ax = ax or plt.gca()\n",
        "    \n",
        "    # Convert covariance to principal axes\n",
        "    if covariance.shape == (2, 2):\n",
        "        U, s, Vt = np.linalg.svd(covariance)\n",
        "        angle = np.degrees(np.arctan2(U[1, 0], U[0, 0]))\n",
        "        width, height = 2 * np.sqrt(s)\n",
        "    else:\n",
        "        angle = 0\n",
        "        width, height = 2 * np.sqrt(covariance)\n",
        "    \n",
        "    \n",
        "    for nsig in range(1, 4):\n",
        "        ax.add_patch(Ellipse(position, nsig * width, nsig * height,\n",
        "                             angle, **kwargs))\n",
        "        \n",
        "def plot_gmm(gmm, X, label=True, ax=None):\n",
        "    ax = ax or plt.gca()\n",
        "    labels = gmm.fit(X).predict(X)\n",
        "    if label:\n",
        "        ax.scatter(X[:, 0], X[:, 1], c=labels, s=40, cmap='viridis', zorder=2)\n",
        "    else:\n",
        "        ax.scatter(X[:, 0], X[:, 1], s=40, zorder=2)\n",
        "    ax.axis('equal')\n",
        "    \n",
        "    w_factor = 0.2 / gmm.weights_.max()\n",
        "    for pos, covar, w in zip(gmm.means_, gmm.covariances_, gmm.weights_):\n",
        "        draw_ellipse(pos, covar, alpha=w * w_factor)"
      ],
      "execution_count": null,
      "outputs": []
    },
    {
      "cell_type": "markdown",
      "metadata": {
        "id": "GGqBQGfnX0uY"
      },
      "source": [
        "Disini mempbuat ploting lingkaran/ellipse untuk menampilkanya lebih jelas lagi"
      ]
    },
    {
      "cell_type": "code",
      "metadata": {
        "colab": {
          "base_uri": "https://localhost:8080/",
          "height": 265
        },
        "id": "2SyE8u04oo8R",
        "outputId": "db8c5c2a-a6cd-4e9a-8ec3-05bc6749fec1"
      },
      "source": [
        "gmm = GaussianMixture(n_components=3, random_state=42)\n",
        "plot_gmm(gmm, X)"
      ],
      "execution_count": null,
      "outputs": [
        {
          "output_type": "display_data",
          "data": {
            "image/png": "[encoded data removed]",
            "text/plain": [
              "<Figure size 432x288 with 1 Axes>"
            ]
          },
          "metadata": {
            "tags": [],
            "needs_background": "light"
          }
        }
      ]
    },
    {
      "cell_type": "markdown",
      "metadata": {
        "id": "4dn2ZeDVX7bo"
      },
      "source": [
        "Yang terakhir merupakan hasil ploting dan dikelompokan bedasarkan cluster, seperti di atas kita memiliki 3 cluster dan data plotin juga memperlihatkan adanya 3 cluster\n",
        "(POINT E)"
      ]
    }
  ]
}